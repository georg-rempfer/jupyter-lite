{
  "cells": [
    {
      "cell_type": "markdown",
      "metadata": {},
      "source": [
        "# Description\n",
        "\n",
        "This notebook calculates a one-sided binomial confidence interval for the single trial success probability given the number of tests conducted ```n_trials```, the number of successful tests ```n_successes``` out of these, and a desired ```confidence_level``` in this success probability.\n",
        "\n",
        "When faced with test results, this tells you what you should expect the real single trial success probability (if you conducted an infinite number of tests) to be. You can tune how conservative or optimistic this estimate for the real single trial success probability should be by setting the ```confidence level```. If you set the confidence level to ```0.95```, the real single trial success probability will lie within the interval calculated at least in ```95%``` of these evaluations. That means there still is at most a ```5%``` chance that the real single trial success probability will be worse than the estimated interval suggests.\n",
        "\n",
        "__Note__\n",
        "1. All probabilities are given as numbers between 0 and 1, where 0 represents \"never\" and 1 represents 100% certainty.\n",
        "2. The confidence intervals are conservative, i.e., the coverage of this hypothesis test is ```confidence_level``` or higher. That means if you use this notebook with ```confidence_level = 0.95``` for multiple trials, then you should expect the true single trial success rate to lie outside the reported confidence interval in 1/20 times on average in the worst-case."
      ]
    },
    {
      "cell_type": "markdown",
      "metadata": {},
      "source": [
        "# Parameters"
      ]
    },
    {
      "cell_type": "code",
      "execution_count": 1,
      "metadata": {
        "trusted": true
      },
      "outputs": [],
      "source": [
        "n_trials = 100 #number of trials conducted\n",
        "n_successes = 92 #number of successful trials\n",
        "confidence_level = 0.95\n",
        "\n",
        "round_to_digits = 4\n",
        "\n",
        "assert isinstance(n_trials, int) and n_trials > 0\n",
        "assert isinstance(n_successes, int) and n_successes >= 0\n",
        "assert isinstance(confidence_level, float) and 0 <= confidence_level <= 1\n",
        "assert isinstance(round_to_digits, int) and round_to_digits >= 1"
      ]
    },
    {
      "cell_type": "markdown",
      "metadata": {},
      "source": [
        "# Evaluation"
      ]
    },
    {
      "cell_type": "code",
      "execution_count": 2,
      "metadata": {
        "tags": [],
        "trusted": true
      },
      "outputs": [
        {
          "name": "stdout",
          "output_type": "stream",
          "text": [
            "The single trial success probability p_success lies within [0.8603, 1] with a confidence of 0.95\n"
          ]
        }
      ],
      "source": [
        "import matplotlib.pyplot as plt\n",
        "import mpmath as mp\n",
        "import numpy as np\n",
        "import scipy.optimize as opt\n",
        "\n",
        "mp.mp.dps = 50 #use 50 decimal digits precision in mpmath calculations\n",
        "\n",
        "def binomial_distr(n_successes, p_success, n_trials):\n",
        "    return mp.binomial(n_trials, n_successes) * mp.power(mp.mpf(p_success), n_successes) * mp.power(mp.mpf(1-p_success), (n_trials-n_successes))\n",
        "\n",
        "binomial_distr_vectorized = np.vectorize(binomial_distr) #create version of binomial distribution that can be evaluated for whole lists of inputs\n",
        "\n",
        "def binomial_confidence(n_successes, p_success_hypothesis, n_trials):\n",
        "    return float(1-binomial_distr_vectorized(np.arange(n_successes, n_trials+1), p_success_hypothesis, n_trials).sum())\n",
        "    \n",
        "p_min = opt.bisect(lambda p: binomial_confidence(n_successes, p, n_trials)-confidence_level, 0, 1)\n",
        "p_min = mp.nstr(mp.mpf(p_min), round_to_digits)\n",
        "\n",
        "print('The single trial success probability p_success lies within [{}, 1] with a confidence of {}'.format(p_min, confidence_level))"
      ]
    },
    {
      "cell_type": "code",
      "execution_count": null,
      "metadata": {},
      "outputs": [],
      "source": []
    },
    {
      "cell_type": "code",
      "execution_count": null,
      "metadata": {},
      "outputs": [],
      "source": []
    }
  ],
  "metadata": {
    "kernelspec": {
      "display_name": "Python 3",
      "language": "python",
      "name": "python3"
    },
    "language_info": {
      "codemirror_mode": {
        "name": "ipython",
        "version": 3
      },
      "file_extension": ".py",
      "mimetype": "text/x-python",
      "name": "python",
      "nbconvert_exporter": "python",
      "pygments_lexer": "ipython3",
      "version": "3.10.4"
    }
  },
  "nbformat": 4,
  "nbformat_minor": 4
}
