{
  "metadata": {
    "kernelspec": {
      "name": "python",
      "display_name": "Python (Pyodide)",
      "language": "python"
    },
    "language_info": {
      "codemirror_mode": {
        "name": "python",
        "version": 3
      },
      "file_extension": ".py",
      "mimetype": "text/x-python",
      "name": "python",
      "nbconvert_exporter": "python",
      "pygments_lexer": "ipython3",
      "version": "3.8"
    }
  },
  "nbformat_minor": 4,
  "nbformat": 4,
  "cells": [
    {
      "cell_type": "markdown",
      "source": "# UNDER CONSTRUCTION\n- description wrong\n- untested\n- plot would be nice",
      "metadata": {}
    },
    {
      "cell_type": "markdown",
      "source": "# Description\n\nThis notebook calculates and plots the binomial distribution for a given single trial success probability ```p_success``` and a given number of trials ```n_trials```. Assuming there is a known, constant single trial success probability ```p_success``` between 0 (never successful) and 1 (always successful), this tells you how probable it is that you get 0, 1, ..., or ```n_trial``` succcessful results when conducting ```n_trial``` tests.\n\nNote: all probabilities are given as numbers between 0 and 1, where 0 represents \"never\" and 1 represents 100% certainty.",
      "metadata": {}
    },
    {
      "cell_type": "markdown",
      "source": "# Parameters",
      "metadata": {}
    },
    {
      "cell_type": "code",
      "source": "n_trials_A = 5000 #number of trials conducted\nn_successes_A = 5000 #number of successes\n\nn_trials_B = 230\nmin_successes_B = 200\n\nround_to_digits = 4\n\nassert isinstance(n_trials_A, int) and n_trials_A > 0\nassert isinstance(n_trials_B, int) and n_trials_B > 0\nassert isinstance(n_successes_A, int) and n_successes_A <= n_trials_A\nassert isinstance(min_successes_B, int) and 0 < min_successes_B <= n_trials_A\nassert isinstance(round_to_digits, int) and round_to_digits >= 1",
      "metadata": {
        "trusted": true
      },
      "outputs": [],
      "execution_count": 36
    },
    {
      "cell_type": "markdown",
      "source": "# Evaluation",
      "metadata": {}
    },
    {
      "cell_type": "code",
      "source": "import matplotlib.pyplot as plt\nimport mpmath as mp\nimport numpy as np\nimport scipy.optimize as opt\n\nmp.mp.dps = 50 #use 50 decimal digits precision in mpmath calculations\n\ndef binomial_distr(n_successes, p_success, n_trials):\n    return mp.binomial(n_trials, n_successes) * mp.power(mp.mpf(p_success), n_successes) * mp.power(mp.mpf(1-p_success), (n_trials-n_successes))\n\nbinomial_distr_vectorized = np.vectorize(binomial_distr) #create version of binomial distribution that can be evaluated for whole lists of inputs\n\ndef prob_null_hypothesis(p_success, n_trials_A, n_successes_A, n_trials_B, min_successes_B):\n    return float( binomial_distr(n_successes_A, p_success, n_trials_A) * binomial_distr_vectorized(np.arange(0, min_successes_B), p_success, n_trials_B).sum() )\n\nprob_null_hypothesis_vectorized = np.vectorize(prob_null_hypothesis)\n\nprob = lambda p: -prob_null_hypothesis_vectorized(p, n_trials_A, n_successes_A, n_trials_B, min_successes_B)\n\nmax_probability_null_hypothesis = -opt.minimize(prob, n_successes_A/n_trials_A).fun\nmax_probability_null_hypothesis_rounded = mp.nstr(mp.mpf(max_probability_null_hypothesis), round_to_digits)\nmin_probability_hypothesis_rounded = mp.nstr(mp.mpf(1-max_probability_null_hypothesis), round_to_digits)\n\nprint('You have conducted {} trials in test (A) of which {} were successful'.format(n_trials_A, n_successes_A))\nprint('The probability of getting fewer than {} successful trials out of {} in test (B) is at most {}'.format(min_successes_B, n_trials_B, max_probability_null_hypothesis_rounded))\nprint('Thefore, the confidence is {} that you will get at least {} successful trials out of {} in test (B)'.format(min_probability_hypothesis_rounded, min_successes_B, n_trials_B))",
      "metadata": {
        "tags": [],
        "trusted": true
      },
      "outputs": [
        {
          "name": "stdout",
          "text": "You have conducted 5000 trials in test (A) of which 5000 were successful\nThe probability of getting fewer than 200 successful trials out of 230 in test (B) is at most 0.0\nThefore, the confidence is 1.0 that you will get at least 200 successful trials out of 230 in test (B)\n",
          "output_type": "stream"
        }
      ],
      "execution_count": 37
    }
  ]
}