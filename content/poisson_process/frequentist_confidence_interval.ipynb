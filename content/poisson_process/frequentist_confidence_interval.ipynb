{
  "metadata": {
    "kernelspec": {
      "name": "python",
      "display_name": "Python (Pyodide)",
      "language": "python"
    },
    "language_info": {
      "codemirror_mode": {
        "name": "ipython",
        "version": 3
      },
      "file_extension": ".py",
      "mimetype": "text/x-python",
      "name": "python",
      "nbconvert_exporter": "python",
      "pygments_lexer": "ipython3",
      "version": "3.10.4"
    }
  },
  "nbformat_minor": 4,
  "nbformat": 4,
  "cells": [
    {
      "cell_type": "markdown",
      "source": "# Description\n\nThis notebook calculates a one-sided poisson confidence interval for event occurrence rate given the ```test_duration```, the number of events observed ```n_events``` during that test, and a desired ```confidence_level``` for the event occurrence rate.\n\nWhen faced with the result of a continuous test (for example the number of false positives observed during 10 hours), this tells you what you should expect the real events occurrence rate (if you ran the test infinitely long) to be. You can tune how conservative or optimistic this estimate for the event occurrence rate should be by setting the ```confidence level```. If you set the confidence level to ```0.95```, the real event occurrence rate will lie within the interval calculated at least in ```95%``` of these evaluations. That means there still is at most a ```5%``` chance that the real event occurrence rate will be worse than the estimated interval suggests.\n\n__Note__\n1. All probabilities are given as numbers between 0 and 1, where 0 represents \"never\" and 1 represents 100% certainty.\n2. The confidence intervals are conservative, i.e., the coverage of this hypothesis test is ```confidence_level``` or higher. That means if you use this notebook with ```confidence_level = 0.95``` for multiple trials, then you should expect the true event occurrence rate to lie outside the reported confidence interval in 1/20 times on average in the worst-case.",
      "metadata": {}
    },
    {
      "cell_type": "markdown",
      "source": "# Parameters",
      "metadata": {}
    },
    {
      "cell_type": "code",
      "source": "test_duration = 10 #measure of how long the test was run [km, hours, ...]\nn_events = 0 #number of events observed during test_duration\nconfidence_level = 0.9\n\nround_to_digits = 4\n\nassert isinstance(test_duration, (int, float)) and test_duration > 0\nassert isinstance(n_events, int) and n_events >= 0\nassert isinstance(confidence_level, float) and 0 <= confidence_level <= 1\nassert isinstance(round_to_digits, int) and round_to_digits >= 1",
      "metadata": {
        "trusted": true
      },
      "outputs": [],
      "execution_count": 1
    },
    {
      "cell_type": "markdown",
      "source": "# Evaluation",
      "metadata": {}
    },
    {
      "cell_type": "code",
      "source": "import matplotlib.pyplot as plt\nimport mpmath as mp\nimport numpy as np\nimport scipy.optimize as opt\n\nmp.mp.dps = 50 #use 50 decimal digits precision in mpmath calculations\n\ndef poisson_distr(n_events, r_event, test_duration):\n    e = mp.mpf(float(r_event)) * mp.mpf(float(test_duration))\n    return mp.power(mp.mpf(e), n_events) / mp.fac(n_events) * mp.exp(-e)\n\npoisson_distr_vectorized = np.vectorize(poisson_distr) #create version of poisson distribution that can be evaluated for whole lists of inputs\n\ndef poisson_confidence(n_events, r_hypothesis, test_duration):\n    return 1-poisson_distr_vectorized(np.arange(0, n_events+1), r_hypothesis, test_duration).sum()\n\nr_min = opt.root_scalar(lambda r: float(poisson_confidence(n_events, r, test_duration)-confidence_level), x0=(n_events+1)/test_duration, method='newton')\nr_min = mp.nstr(mp.mpf(r_min.root), round_to_digits)\n\nprint('The event occurrence rate lies within [0, {}] with a confidence of {}'.format(r_min, confidence_level))",
      "metadata": {
        "tags": [],
        "trusted": true
      },
      "outputs": [
        {
          "name": "stdout",
          "output_type": "stream",
          "text": [
            "The event occurrence rate lies within [0, 0.2303] with a confidence of 0.9\n"
          ]
        }
      ],
      "execution_count": 2
    }
  ]
}