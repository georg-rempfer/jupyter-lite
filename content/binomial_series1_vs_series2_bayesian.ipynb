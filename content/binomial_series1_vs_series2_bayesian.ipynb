{
  "metadata": {
    "kernelspec": {
      "display_name": "Python (Pyodide)",
      "language": "python",
      "name": "python"
    },
    "language_info": {
      "codemirror_mode": {
        "name": "python",
        "version": 3
      },
      "file_extension": ".py",
      "mimetype": "text/x-python",
      "name": "python",
      "nbconvert_exporter": "python",
      "pygments_lexer": "ipython3",
      "version": "3.8"
    }
  },
  "nbformat_minor": 4,
  "nbformat": 4,
  "cells": [
    {
      "cell_type": "markdown",
      "source": "# Description\n\nThis notebook calculates the probability that a second series has lower underlying discrete success rate than the first one. \nAs input, we need two test runs results with discrete success test results \n`n_trials_1` `n_trials_2` `n_successes_1` `n_successes_2`. The calcation is based on a uniform prior and the assumption that the results of series1 and series2 are statistically independent and that the success rates within each series are constant.\n\nTypically, this question arises when the percentage of successful trials in series2 was higher than in series1, i.e. when`n_successes_2/n_trials_2 > n_successes_1/n_trials_1`.\nWhen faced with test results, the calculations tell you how often you should expect the test results in series2 to look better than in series1 despite the underlying success probability (which you would get for infinitely long series) being actually worse in series2. \n\nNote: all probabilities are given as numbers between 0 and 1, where 0 represents \"never\" and 1 represents 100% certainty.",
      "metadata": {}
    },
    {
      "cell_type": "markdown",
      "source": "# Parameters",
      "metadata": {}
    },
    {
      "cell_type": "code",
      "source": "n_successes_1 = 7 #number of successful trials in 1st series\nn_trials_1 = 10 #number of trials conducted in 1st serie\nn_successes_2 = 8 #number of successful trials in 2nd series\nn_trials_2 = 10 #number of trials conducted in 2nd series\n\nround_to_digits = 4",
      "metadata": {
        "trusted": true
      },
      "outputs": [],
      "execution_count": 1
    },
    {
      "cell_type": "markdown",
      "source": "# Evaluation",
      "metadata": {}
    },
    {
      "cell_type": "code",
      "source": "from sympy import *\nimport numpy as np\n\ndef L(p, k, n): # non-normalized, integral is not 1\n    #assert(n_successes <= n_trials and n_successes >= 0)\n    return p**k * (1-p)**(n - k)\n\ndef P(p,k,n): #normalized, s.t. integral over p for given (k,n) is 1\n    return simplify(L(p, k, n) / integrate(L(p, k, n), (p, 0, 1)))\n\n#p = symbols('p', real=True, positive=True)\n#n, k = symbols('n k', integer=True, positive=True)\n#print('L(p, k, n) =', L(p, k, n))\n#print('P(p, k, n) =', P(p, k, n))\n\np1, p2 = symbols('p1 p2', real=True, positive=True)\nn1, k1, n2, k2 = symbols('n1 k1 n2 k2', integer=True, positive=True)\n\ndef P_product(p1,k1,n1, p2,k2,n2): # assuming statistically independent trial series here.\n    return P(p1,k1,n1) * P(p2,k2,n2)\n\n#print('P_product(p1,k1,n1, p2,k2,n2) =', P_product(p1,k1,n1, p2,k2,n2))\n\n#print('norm L =', simplify(integrate(L(p, k, n), (p,0,1))))\n#print('norm P =', simplify(integrate(P(p, k, n), (p,0,1))))\n#print('norm P_product =', simplify(integrate(integrate(P_product(p1, k1, n1, p2, k2, n2), (p1, 0, 1)), (p2, 0, 1))))",
      "metadata": {
        "tags": [],
        "trusted": true,
        "editable": true,
        "slideshow": {
          "slide_type": ""
        }
      },
      "outputs": [],
      "execution_count": 2
    },
    {
      "cell_type": "code",
      "source": "Pp = P_product(p1,k1,n1, p2,k2,n2)\nPprod_given = simplify(Pp.subs({k1:n_successes_1, n1:n_trials_1, k2:n_successes_2, n2:n_trials_2}))\n\nint_0_p1 = simplify(integrate(Pprod_given,(p2,0,p1)))\n#print(intp2ltp1)\nP_p2ltp1 = integrate(int_0_p1, (p1,0,1))\n#print(P_p2ltp1)\n#print(P_p2ltp1.evalf())\n\nprint(f'You have conducted two test series. The first one had {n_successes_1} out of {n_trials_1} successful results, the seconds one had {n_successes_2} out of {n_trials_2} successful results.')\nprint(f'Using the assumptions, the probability is {round(P_p2ltp1.evalf(), round_to_digits)} to get a result where series2 has more successes than series1, even though the unknown underlying success rate within series2 is lower than that of series1. Thus, we are {1-round(P_p2ltp1.evalf(), round_to_digits)} confident that the single success rate p_success_2 is greater than p_success_1.')",
      "metadata": {
        "trusted": true
      },
      "outputs": [],
      "execution_count": null
    },
    {
      "cell_type": "code",
      "source": "",
      "metadata": {
        "trusted": true
      },
      "outputs": [],
      "execution_count": null
    },
    {
      "cell_type": "code",
      "source": "import matplotlib.pyplot as plt\nfrom sympy.utilities.lambdify import lambdify\n\nfxy = np.vectorize(lambdify([p1,p2], Pprod_given))\n\nrange_lo = 0.5 # adapt plot range here\nrange_hi = 1.0\nxx, yy = np.meshgrid(np.arange(range_lo, range_hi, 1 / 100.), np.arange(range_lo, range_hi, 1 / 100.))\nzz = fxy(xx,yy)\n\nfig = plt.figure()\n\nax = fig.add_subplot(1,2,1)\nax.set_aspect('equal') # only available in 2D\nax.set_xlabel(\"p_success_1\"); ax.set_ylabel(\"p_success_2\"); \nax.plot([range_lo,range_hi],[range_lo,range_hi], color='lightgreen',zorder=3)\n\nc = ax.contourf(xx, yy, zz)\nc = ax.contour(xx, yy, zz)\n#ax.clabel(c, c.levels, inline=True, colors=\"c\")\n\nax3 = fig.add_subplot(1,2,2, projection='3d')\nax3.set_xlabel(\"p_success_1\"); ax3.set_ylabel(\"p_success_2\"); \nax3.set_title(f'probability density that a (p_success_1, p_success_2) tuple produces the given test results ({n_successes_1}/{n_trials_1} and {n_successes_2}/{n_trials_2})')\nax3.contourf(xx, yy, zz)\nax3.plot([range_lo,range_hi],[range_lo,range_hi], color='lightgreen',zorder=3)\n\nprint(\"Plotted in green is the diagonal.\")\nprint(\"Below the diagonal is where p_success_2 is lower than p_success_1 and still the results look like series2 is more successful.\")",
      "metadata": {
        "trusted": true
      },
      "outputs": [],
      "execution_count": null
    },
    {
      "cell_type": "code",
      "source": "",
      "metadata": {
        "trusted": true
      },
      "outputs": [],
      "execution_count": null
    },
    {
      "cell_type": "code",
      "source": "",
      "metadata": {
        "trusted": true
      },
      "outputs": [],
      "execution_count": null
    }
  ]
}
