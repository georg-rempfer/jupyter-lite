{
  "metadata": {
    "kernelspec": {
      "name": "python",
      "display_name": "Python (Pyodide)",
      "language": "python"
    },
    "language_info": {
      "codemirror_mode": {
        "name": "python",
        "version": 3
      },
      "file_extension": ".py",
      "mimetype": "text/x-python",
      "name": "python",
      "nbconvert_exporter": "python",
      "pygments_lexer": "ipython3",
      "version": "3.8"
    }
  },
  "nbformat_minor": 4,
  "nbformat": 4,
  "cells": [
    {
      "cell_type": "markdown",
      "source": "# What is this?\n\nThis is a collection of interactive statistics calculations commonly used to evaluate test results.\n\n# What evaluations are implemented?\n\n1. The subdirectory **bernoulli_process** contains evaluations for discrete tests with success/failure results. Think conducting an experiment 100 times of which it succeeds 92 times and fails 8 times.\n1. The subdirectory **poisson_process** contains evaluations for continuous tests during which discrete events occur. Think running an experiment for 10 hours during which a mistake happens 2 times.\n\nAmong the notebooks, you will find frequentist and Bayesian evaluations for the relevant unknown experimental parameters (success probability for discrete tests, event occurrence rate for continuous tests), plots of the outcome distributions when all parameters are known, and evaluations that let you compare the results from multiple different tests.\n\nAll of this aims at quantifying the information about the performance of the system under test that can be deduced from your test results. In easier words: if you ran a test 100 times and it works 92 times, what does that really tell you about the real success rate? How sure can you be that it is 92% and that you didn't just get lucky? If you want to be 95% confident in your performance, what performance can you promise?\n\n# Can I trust the results?\n\nWe cannot guarantee that the calculations in the default notebooks are correct. You need to do your own validation.\n\n# Where are the notebooks stored?\n\nDefault notebooks are stored on server. If you make changes to those or create your own notebooks from scratch, these are stored in your browser cache. They will only be visible to you on the machine you are using when you create them. You are responsible to create your own backups (download by right clicking in the browse side pane, upload button at the top of the browse side pane).\n\n# How do I get back the default notebook after making changes?\n\nYou can delete notebooks that are vailable by default to return them to their original state. If you want to return the whole application to the latest default state (and lose all your changes and custom notebooks), you can delete the browser cache for this website and refresh.\n\n# How are the computations performed?\n\nAll computations are run on your machine in the browser. These notebooks use the Pyodide Python kernel - a webassembly implementation of the Python interpreter and all used packages. If you plan to run more elaborate calculations, other environments are more suitable.\n\n# I want to fix a mistake in one of the default notebooks or contribute by own evaluations!\n\nYou can do so here: https://github.com/georg-rempfer/jupyter-lite",
      "metadata": {}
    },
    {
      "cell_type": "code",
      "source": "",
      "metadata": {
        "trusted": true
      },
      "outputs": [],
      "execution_count": null
    }
  ]
}